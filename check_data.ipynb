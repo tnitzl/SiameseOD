{
 "cells": [
  {
   "cell_type": "code",
   "execution_count": 22,
   "metadata": {},
   "outputs": [],
   "source": [
    "import numpy as np\n",
    "import matplotlib.pyplot as plt\n",
    "import os"
   ]
  },
  {
   "cell_type": "code",
   "execution_count": 5,
   "metadata": {},
   "outputs": [
    {
     "name": "stdout",
     "output_type": "stream",
     "text": [
      "['26_optdigits.npz', '42_WBC.npz', '21_Lymphography.npz', '8_celeba.npz', '33_skin.npz', '34_smtp.npz', '28_pendigits.npz', '39_vertebral.npz', '11_donors.npz', '43_WDBC.npz', '7_Cardiotocography.npz', '36_speech.npz', '5_campaign.npz', '44_Wilt.npz', '10_cover.npz', '46_WPBC.npz', '37_Stamps.npz', '2_annthyroid.npz', '27_PageBlocks.npz', '31_satimage-2.npz', '3_backdoor.npz', '38_thyroid.npz', '29_Pima.npz', '24_mnist.npz', '15_Hepatitis.npz', '22_magic.gamma.npz', '16_http.npz', '32_shuttle.npz', '12_fault.npz', '47_yeast.npz', '13_fraud.npz', '35_SpamBase.npz', '41_Waveform.npz', '17_InternetAds.npz', '6_cardio.npz', '23_mammography.npz', '40_vowels.npz', '9_census.npz', '45_wine.npz', '25_musk.npz', '1_ALOI.npz', '18_Ionosphere.npz', '20_letter.npz', '19_landsat.npz', '14_glass.npz', '30_satellite.npz', '4_breastw.npz']\n",
      "47\n"
     ]
    }
   ],
   "source": [
    "curent_dirctory = os.getcwd()\n",
    "file_directory = \"/Archiv/Classical/\"\n",
    "npz_files = [f for f in os.listdir(curent_dirctory + file_directory) if f.endswith('.npz')]\n",
    "print(npz_files)\n",
    "print(len(npz_files))"
   ]
  },
  {
   "cell_type": "code",
   "execution_count": 26,
   "metadata": {},
   "outputs": [
    {
     "name": "stdout",
     "output_type": "stream",
     "text": [
      "<class 'numpy.ndarray'>\n",
      "<class 'numpy.ndarray'>\n",
      "95329\n",
      "95329\n",
      "[0.       1.       0.       0.       0.       0.       0.       0.\n",
      " 0.       0.       0.       0.       0.       0.       0.       0.\n",
      " 0.       0.       0.       0.       0.       0.       0.       0.\n",
      " 0.       0.       0.       0.       0.       0.       0.       0.\n",
      " 0.       0.       0.       0.       0.       0.       0.       0.\n",
      " 0.       0.       0.       0.       0.       0.       0.       0.\n",
      " 0.       0.       0.       0.       0.       0.       0.       0.\n",
      " 0.       0.       0.       0.       0.       0.       0.       0.\n",
      " 0.       0.       0.       0.       0.       0.       0.       0.\n",
      " 0.       0.       0.       0.       0.       0.       0.       0.\n",
      " 0.       0.       0.       0.       0.       0.       0.       0.\n",
      " 0.       0.       0.       0.       0.       0.       0.       0.\n",
      " 0.       0.       0.       0.       0.       0.       0.       0.\n",
      " 0.       0.       0.       0.       0.       0.       0.       0.\n",
      " 0.       0.       0.       0.       0.       0.       0.       0.\n",
      " 0.       0.       0.       0.       0.       0.       0.       0.\n",
      " 0.       0.       0.       0.       0.       0.       1.       0.\n",
      " 0.       0.       0.       0.       0.       0.       0.       0.\n",
      " 0.       0.       0.       1.       0.       0.       0.       0.\n",
      " 0.       0.       0.       0.       0.       0.       0.001452 0.\n",
      " 0.001397 0.       0.090909 0.996078 0.       0.033751 0.       0.\n",
      " 0.       0.       0.       0.       0.       0.       0.       0.\n",
      " 0.       0.       0.       0.       0.149456 0.       0.       0.\n",
      " 0.016129 0.333333 0.       0.       0.       0.016129 0.       0.\n",
      " 0.       0.       0.016393 0.      ]\n",
      "0\n",
      "(196,)\n"
     ]
    }
   ],
   "source": [
    "data = np.load(curent_dirctory + file_directory + \"/3_backdoor.npz\", allow_pickle=True)\n",
    "X, y = data['X'], data['y']\n",
    "print(type(X))\n",
    "print(type(y))\n",
    "\n",
    "print(len(X))\n",
    "print(len(y))\n",
    "\n",
    "print(X[0])\n",
    "print(y[0])\n",
    "\n",
    "print(X[1].shape)"
   ]
  },
  {
   "cell_type": "code",
   "execution_count": 27,
   "metadata": {},
   "outputs": [
    {
     "data": {
      "text/plain": [
       "(array([93000.,     0.,     0.,     0.,     0.,     0.,     0.,     0.,\n",
       "            0.,  2329.]),\n",
       " array([0. , 0.1, 0.2, 0.3, 0.4, 0.5, 0.6, 0.7, 0.8, 0.9, 1. ]),\n",
       " <BarContainer object of 10 artists>)"
      ]
     },
     "execution_count": 27,
     "metadata": {},
     "output_type": "execute_result"
    },
    {
     "data": {
      "image/png": "[encoded data removed]",
      "text/plain": [
       "<Figure size 640x480 with 1 Axes>"
      ]
     },
     "metadata": {},
     "output_type": "display_data"
    }
   ],
   "source": [
    "plt.hist(y)"
   ]
  },
  {
   "cell_type": "code",
   "execution_count": 28,
   "metadata": {},
   "outputs": [],
   "source": [
    "file_directory_cifar = \"/Archiv/CV_by_ResNet18/\""
   ]
  },
  {
   "cell_type": "code",
   "execution_count": 34,
   "metadata": {},
   "outputs": [
    {
     "name": "stdout",
     "output_type": "stream",
     "text": [
      "<class 'numpy.ndarray'>\n",
      "<class 'numpy.ndarray'>\n",
      "5263\n",
      "5263\n",
      "[0.08218205 0.         0.         0.02837018 0.         0.\n",
      " 0.         1.2862837  0.23256086 0.         0.8179319  0.\n",
      " 0.         0.36953127 0.         0.         0.         2.2461784\n",
      " 0.22007857 0.         0.         0.60493004 0.         0.46432552\n",
      " 0.         0.2028456  0.32609385 0.27451852 0.33849567 0.\n",
      " 0.         0.         0.35879904 0.         0.         0.01514088\n",
      " 0.10347936 0.         0.         0.         0.         0.\n",
      " 0.         3.7640414  0.         0.         0.         0.7870309\n",
      " 0.         0.         0.32487407 1.7705212  0.         0.\n",
      " 0.         0.         1.6884238  0.         0.         0.\n",
      " 0.         0.39981854 0.         0.         0.12301438 0.6092043\n",
      " 1.1900964  0.         0.3559048  0.         0.         0.\n",
      " 0.         0.         0.         0.07879407 0.         0.\n",
      " 0.         0.         0.         0.60721    0.         0.\n",
      " 0.         0.21038911 0.31624472 0.         0.         0.\n",
      " 0.         0.         0.         0.         0.         0.0859842\n",
      " 0.         0.9439777  0.         0.30939746 0.         0.60177004\n",
      " 0.         0.67355996 0.28178656 0.         0.         0.\n",
      " 0.         0.         0.         0.08044543 0.         0.01170188\n",
      " 0.         0.         0.         0.         1.8931271  0.31195903\n",
      " 0.21660571 0.47571102 0.         1.1283176  0.         0.\n",
      " 0.         0.         1.508867   0.06966466 0.         0.\n",
      " 0.         0.         0.         0.         0.         0.\n",
      " 0.         0.         0.         0.         1.2365685  0.\n",
      " 0.         0.         0.         0.         0.         0.02187745\n",
      " 0.7597939  0.         0.04668435 0.         2.812036   0.\n",
      " 0.18620145 0.         0.         0.         0.         0.37425724\n",
      " 0.         0.07076943 0.         0.         1.0688971  0.\n",
      " 0.90053993 0.03614252 0.         0.         0.         0.\n",
      " 0.46541482 0.76625896 0.         0.         0.7599344  0.\n",
      " 0.         0.         2.617224   0.         0.37753472 0.00441465\n",
      " 0.         0.         0.24999782 0.         0.         0.\n",
      " 0.272578   1.6279149  0.         0.         0.         0.\n",
      " 0.         0.741351   0.         0.         1.0790446  0.41056335\n",
      " 0.         0.         0.         0.         1.1214043  0.390122\n",
      " 0.         0.         0.         1.510866   0.         0.\n",
      " 0.33030292 0.         0.         0.         0.53552204 0.\n",
      " 0.7372457  0.         0.39651862 0.         0.23187077 0.\n",
      " 0.         0.         0.         0.         0.         0.\n",
      " 0.         0.         0.         0.         0.         0.\n",
      " 0.         0.66336596 0.         0.08841193 0.         0.\n",
      " 0.         0.         0.         0.64001596 1.32694    0.\n",
      " 0.         0.         0.         2.235425   0.         0.\n",
      " 0.1396811  1.5536025  0.         0.         0.         1.0295532\n",
      " 0.         0.         0.         0.         0.         0.\n",
      " 0.         0.         0.         0.         0.         0.\n",
      " 0.6767902  0.         0.         0.         0.28599095 0.\n",
      " 0.         1.4496291  0.         0.28758544 0.         0.\n",
      " 0.         0.         1.4005216  0.         0.08268754 0.08333229\n",
      " 0.         0.         0.         0.2949556  0.         0.21454659\n",
      " 0.         0.         0.         0.         3.2820725  0.\n",
      " 0.         0.         0.         0.         0.25031477 0.05913887\n",
      " 1.6044693  0.         0.20586962 0.         0.         0.4435577\n",
      " 0.37111706 0.         0.         0.         0.         0.\n",
      " 0.         0.5830551  0.         0.         0.53778476 0.\n",
      " 0.         0.         0.         0.         0.         0.\n",
      " 0.49427772 0.13901033 0.         0.10447723 0.         0.\n",
      " 0.12725157 0.46348846 0.         0.         0.         0.05912176\n",
      " 0.         0.         0.         0.         1.2196963  0.\n",
      " 0.         0.         0.         0.47926185 0.         0.\n",
      " 0.         0.         0.45301974 0.15260777 0.66380835 0.\n",
      " 0.         0.         0.         0.         0.3887433  0.\n",
      " 0.7382474  0.         0.27612147 0.         0.         0.\n",
      " 0.         0.         0.         1.2198913  0.36036044 0.35914022\n",
      " 0.34397352 1.1587418  0.6426599  0.         0.16603225 0.\n",
      " 0.         0.08340937 0.         0.48461622 2.197307   0.\n",
      " 0.25292113 0.         0.         0.         0.         0.\n",
      " 0.         0.         2.9677563  0.         0.         0.\n",
      " 0.         0.         0.3993303  0.         0.7143866  0.\n",
      " 0.         0.         0.         0.         0.         0.\n",
      " 0.         0.06260264 1.020685   2.0342624  0.52680403 0.\n",
      " 0.514836   0.         0.17485937 0.         0.         0.\n",
      " 0.         0.6086413  0.         1.4200068  0.         0.21363243\n",
      " 0.         0.         0.         0.         0.         0.\n",
      " 0.7729305  0.         0.         0.         0.         0.\n",
      " 1.8618381  0.         0.04293251 0.         0.         0.\n",
      " 0.09466767 0.         0.         0.         0.5493608  0.\n",
      " 0.         0.         0.         0.         0.         0.\n",
      " 0.         0.         0.         0.         0.         0.\n",
      " 0.         0.         0.         0.         0.         0.\n",
      " 0.5710088  0.0104345  0.         0.         0.         0.\n",
      " 0.         0.         0.         0.         0.3035008  0.\n",
      " 0.         0.         0.         0.         0.         0.\n",
      " 0.5493656  0.         0.         2.2139742  0.         0.3324411\n",
      " 0.         0.         0.9990822  0.         0.         2.0755038\n",
      " 0.         0.        ]\n",
      "1\n",
      "(512,)\n"
     ]
    }
   ],
   "source": [
    "data = np.load(curent_dirctory + file_directory_cifar + \"/CIFAR10_8.npz\", allow_pickle=True)\n",
    "X, y = data['X'], data['y']\n",
    "print(type(X))\n",
    "print(type(y))\n",
    "\n",
    "print(len(X))\n",
    "print(len(y))\n",
    "\n",
    "print(X[0])\n",
    "print(y[0])\n",
    "\n",
    "print(X[1].shape)"
   ]
  },
  {
   "cell_type": "code",
   "execution_count": 35,
   "metadata": {},
   "outputs": [
    {
     "data": {
      "text/plain": [
       "(array([5000.,    0.,    0.,    0.,    0.,    0.,    0.,    0.,    0.,\n",
       "         263.]),\n",
       " array([0. , 0.1, 0.2, 0.3, 0.4, 0.5, 0.6, 0.7, 0.8, 0.9, 1. ]),\n",
       " <BarContainer object of 10 artists>)"
      ]
     },
     "execution_count": 35,
     "metadata": {},
     "output_type": "execute_result"
    },
    {
     "data": {
      "image/png": "[encoded data removed]",
      "text/plain": [
       "<Figure size 640x480 with 1 Axes>"
      ]
     },
     "metadata": {},
     "output_type": "display_data"
    }
   ],
   "source": [
    "plt.hist(y)"
   ]
  },
  {
   "cell_type": "code",
   "execution_count": null,
   "metadata": {},
   "outputs": [],
   "source": []
  }
 ],
 "metadata": {
  "kernelspec": {
   "display_name": "Python 3 (ipykernel)",
   "language": "python",
   "name": "python3"
  }
 },
 "nbformat": 4,
 "nbformat_minor": 2
}
