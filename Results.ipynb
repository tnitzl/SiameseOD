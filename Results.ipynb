version https://git-lfs.github.com/spec/v1
oid sha256:e3e0280596eae18f630b1d1486df3bfb118162771ffcd9d1bca49b44d31c0d32
size 294945
