version https://git-lfs.github.com/spec/v1
oid sha256:129a8d8bdc3cacf53bb84abe1a66002e15bffa7474ba7d852422d2b63fad986a
size 294677
